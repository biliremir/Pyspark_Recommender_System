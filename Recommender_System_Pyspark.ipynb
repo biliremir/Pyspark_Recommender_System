{
  "nbformat": 4,
  "nbformat_minor": 0,
  "metadata": {
    "colab": {
      "provenance": []
    },
    "kernelspec": {
      "name": "python3",
      "display_name": "Python 3"
    },
    "language_info": {
      "name": "python"
    }
  },
  "cells": [
    {
      "cell_type": "code",
      "execution_count": null,
      "metadata": {
        "colab": {
          "base_uri": "https://localhost:8080/"
        },
        "id": "ZYPHQ89_20nb",
        "outputId": "9a3c354a-20d5-45aa-e1f1-5306772aa10c"
      },
      "outputs": [
        {
          "output_type": "stream",
          "name": "stdout",
          "text": [
            "Collecting pyspark\n",
            "  Downloading pyspark-3.4.1.tar.gz (310.8 MB)\n",
            "\u001b[2K     \u001b[90m━━━━━━━━━━━━━━━━━━━━━━━━━━━━━━━━━━━━━━━\u001b[0m \u001b[32m310.8/310.8 MB\u001b[0m \u001b[31m2.6 MB/s\u001b[0m eta \u001b[36m0:00:00\u001b[0m\n",
            "\u001b[?25h  Preparing metadata (setup.py) ... \u001b[?25l\u001b[?25hdone\n",
            "Requirement already satisfied: py4j==0.10.9.7 in /usr/local/lib/python3.10/dist-packages (from pyspark) (0.10.9.7)\n",
            "Building wheels for collected packages: pyspark\n",
            "  Building wheel for pyspark (setup.py) ... \u001b[?25l\u001b[?25hdone\n",
            "  Created wheel for pyspark: filename=pyspark-3.4.1-py2.py3-none-any.whl size=311285398 sha256=f5459bc3573a93dab77a050169924dadbfd47e6c28f2a120f9d63ecae1620157\n",
            "  Stored in directory: /root/.cache/pip/wheels/0d/77/a3/ff2f74cc9ab41f8f594dabf0579c2a7c6de920d584206e0834\n",
            "Successfully built pyspark\n",
            "Installing collected packages: pyspark\n",
            "Successfully installed pyspark-3.4.1\n"
          ]
        }
      ],
      "source": [
        "!pip install pyspark"
      ]
    },
    {
      "cell_type": "code",
      "source": [
        "from pyspark.sql import SparkSession\n",
        "spark = SparkSession.builder.appName('RS').getOrCreate()"
      ],
      "metadata": {
        "id": "CANAVSh53GnW"
      },
      "execution_count": null,
      "outputs": []
    },
    {
      "cell_type": "code",
      "source": [
        "df = spark.read.csv(\"ratings.csv\",header=True,inferSchema=True)\n",
        "df1= spark.read.csv(\"movies.csv\",header=True, inferSchema=True)"
      ],
      "metadata": {
        "id": "ViCSyKaD3fnl"
      },
      "execution_count": null,
      "outputs": []
    },
    {
      "cell_type": "code",
      "source": [
        "df=df.join(df1, (df[\"movieId\"] == df1[\"movieId\"]))\n",
        "df=df.drop(\"timestamp\",\"genres\")\n"
      ],
      "metadata": {
        "id": "co0FQ3kxi8uJ"
      },
      "execution_count": null,
      "outputs": []
    },
    {
      "cell_type": "code",
      "source": [
        "df.count()"
      ],
      "metadata": {
        "colab": {
          "base_uri": "https://localhost:8080/"
        },
        "id": "AoWZmCra4Jle",
        "outputId": "1206827e-c6d0-4fef-c2b9-24656f1eab96"
      },
      "execution_count": null,
      "outputs": [
        {
          "output_type": "execute_result",
          "data": {
            "text/plain": [
              "100836"
            ]
          },
          "metadata": {},
          "execution_count": 7
        }
      ]
    },
    {
      "cell_type": "code",
      "source": [
        "df.columns"
      ],
      "metadata": {
        "colab": {
          "base_uri": "https://localhost:8080/"
        },
        "id": "LLQQAVSqeVg5",
        "outputId": "3dd2c507-c680-4020-f6a2-7b46e75b6eae"
      },
      "execution_count": null,
      "outputs": [
        {
          "output_type": "execute_result",
          "data": {
            "text/plain": [
              "['userId', 'movieId', 'rating', 'movieId', 'title']"
            ]
          },
          "metadata": {},
          "execution_count": 8
        }
      ]
    },
    {
      "cell_type": "code",
      "source": [
        "df.printSchema()"
      ],
      "metadata": {
        "colab": {
          "base_uri": "https://localhost:8080/"
        },
        "id": "1vLdWQLP4QsF",
        "outputId": "9f69238f-b076-409c-98e2-ad7aca611536"
      },
      "execution_count": null,
      "outputs": [
        {
          "output_type": "stream",
          "name": "stdout",
          "text": [
            "root\n",
            " |-- userId: integer (nullable = true)\n",
            " |-- movieId: integer (nullable = true)\n",
            " |-- rating: double (nullable = true)\n",
            " |-- movieId: integer (nullable = true)\n",
            " |-- title: string (nullable = true)\n",
            "\n"
          ]
        }
      ]
    },
    {
      "cell_type": "code",
      "source": [
        "from pyspark.sql.functions import rand\n",
        "df.orderBy(rand()).show(10,False)"
      ],
      "metadata": {
        "colab": {
          "base_uri": "https://localhost:8080/"
        },
        "id": "NCuojnIq4YWd",
        "outputId": "a1c1ca8f-8f94-43a5-a3fc-5965eb23ddd6"
      },
      "execution_count": null,
      "outputs": [
        {
          "output_type": "stream",
          "name": "stdout",
          "text": [
            "+------+-------+------+-------+--------------------------------------------------+\n",
            "|userId|movieId|rating|movieId|title                                             |\n",
            "+------+-------+------+-------+--------------------------------------------------+\n",
            "|588   |380    |3.0   |380    |True Lies (1994)                                  |\n",
            "|561   |8371   |2.0   |8371   |Chronicles of Riddick, The (2004)                 |\n",
            "|480   |1080   |4.5   |1080   |Monty Python's Life of Brian (1979)               |\n",
            "|132   |31658  |4.0   |31658  |Howl's Moving Castle (Hauru no ugoku shiro) (2004)|\n",
            "|94    |153    |3.0   |153    |Batman Forever (1995)                             |\n",
            "|307   |6593   |2.0   |6593   |Freaky Friday (2003)                              |\n",
            "|562   |6731   |3.5   |6731   |Day of the Dead (1985)                            |\n",
            "|51    |804    |5.0   |804    |She's the One (1996)                              |\n",
            "|483   |2572   |2.5   |2572   |10 Things I Hate About You (1999)                 |\n",
            "|428   |173    |3.0   |173    |Judge Dredd (1995)                                |\n",
            "+------+-------+------+-------+--------------------------------------------------+\n",
            "only showing top 10 rows\n",
            "\n"
          ]
        }
      ]
    },
    {
      "cell_type": "code",
      "source": [
        "# Hangi user kac adet icerigi puanlamis?\n",
        "df.groupBy('userId').count().orderBy('count',ascending=False).show(15,False)"
      ],
      "metadata": {
        "colab": {
          "base_uri": "https://localhost:8080/"
        },
        "id": "_Kzlv4k54g_O",
        "outputId": "202e8778-8965-4107-a626-2d0a0d5e0695"
      },
      "execution_count": null,
      "outputs": [
        {
          "output_type": "stream",
          "name": "stdout",
          "text": [
            "+------+-----+\n",
            "|userId|count|\n",
            "+------+-----+\n",
            "|414   |2698 |\n",
            "|599   |2478 |\n",
            "|474   |2108 |\n",
            "|448   |1864 |\n",
            "|274   |1346 |\n",
            "|610   |1302 |\n",
            "|68    |1260 |\n",
            "|380   |1218 |\n",
            "|606   |1115 |\n",
            "|288   |1055 |\n",
            "|249   |1046 |\n",
            "|387   |1027 |\n",
            "|182   |977  |\n",
            "|307   |975  |\n",
            "|603   |943  |\n",
            "+------+-----+\n",
            "only showing top 15 rows\n",
            "\n"
          ]
        }
      ]
    },
    {
      "cell_type": "code",
      "source": [
        "df.groupBy('userId').count().orderBy('count',ascending=True).show(15,False)"
      ],
      "metadata": {
        "colab": {
          "base_uri": "https://localhost:8080/"
        },
        "id": "Yi_Gz4HM5sAc",
        "outputId": "6d7c2197-cd47-4803-9024-2cb752f7a51b"
      },
      "execution_count": null,
      "outputs": [
        {
          "output_type": "stream",
          "name": "stdout",
          "text": [
            "+------+-----+\n",
            "|userId|count|\n",
            "+------+-----+\n",
            "|442   |20   |\n",
            "|53    |20   |\n",
            "|406   |20   |\n",
            "|257   |20   |\n",
            "|431   |20   |\n",
            "|189   |20   |\n",
            "|207   |20   |\n",
            "|278   |20   |\n",
            "|194   |20   |\n",
            "|569   |20   |\n",
            "|320   |20   |\n",
            "|576   |20   |\n",
            "|595   |20   |\n",
            "|147   |20   |\n",
            "|547   |21   |\n",
            "+------+-----+\n",
            "only showing top 15 rows\n",
            "\n"
          ]
        }
      ]
    },
    {
      "cell_type": "code",
      "source": [
        "# En cok oylanan Filmler hangileri?\n",
        "df.groupBy('title').count().orderBy('count',ascending=False).show(10,False)"
      ],
      "metadata": {
        "colab": {
          "base_uri": "https://localhost:8080/"
        },
        "id": "_RVCkBNv52xL",
        "outputId": "4832f8fc-2ae0-40c7-f6fd-2cbfbd735f71"
      },
      "execution_count": null,
      "outputs": [
        {
          "output_type": "stream",
          "name": "stdout",
          "text": [
            "+-----------------------------------------+-----+\n",
            "|title                                    |count|\n",
            "+-----------------------------------------+-----+\n",
            "|Forrest Gump (1994)                      |329  |\n",
            "|Shawshank Redemption, The (1994)         |317  |\n",
            "|Pulp Fiction (1994)                      |307  |\n",
            "|Silence of the Lambs, The (1991)         |279  |\n",
            "|Matrix, The (1999)                       |278  |\n",
            "|Star Wars: Episode IV - A New Hope (1977)|251  |\n",
            "|Jurassic Park (1993)                     |238  |\n",
            "|Braveheart (1995)                        |237  |\n",
            "|Terminator 2: Judgment Day (1991)        |224  |\n",
            "|Schindler's List (1993)                  |220  |\n",
            "+-----------------------------------------+-----+\n",
            "only showing top 10 rows\n",
            "\n"
          ]
        }
      ]
    },
    {
      "cell_type": "code",
      "source": [
        "df.orderBy(rand()).show(10,False)"
      ],
      "metadata": {
        "colab": {
          "base_uri": "https://localhost:8080/"
        },
        "id": "jVRJFxpX6NIM",
        "outputId": "2520d72b-8e8e-4c36-cd4f-773889130056"
      },
      "execution_count": null,
      "outputs": [
        {
          "output_type": "stream",
          "name": "stdout",
          "text": [
            "+------+-------+------+-------+------------------------------------------------------+\n",
            "|userId|movieId|rating|movieId|title                                                 |\n",
            "+------+-------+------+-------+------------------------------------------------------+\n",
            "|307   |8641   |4.0   |8641   |Anchorman: The Legend of Ron Burgundy (2004)          |\n",
            "|332   |55820  |4.0   |55820  |No Country for Old Men (2007)                         |\n",
            "|166   |48774  |4.5   |48774  |Children of Men (2006)                                |\n",
            "|139   |5481   |1.0   |5481   |Austin Powers in Goldmember (2002)                    |\n",
            "|116   |1036   |3.5   |1036   |Die Hard (1988)                                       |\n",
            "|294   |2072   |1.0   |2072   |'burbs, The (1989)                                    |\n",
            "|221   |2951   |4.5   |2951   |Fistful of Dollars, A (Per un pugno di dollari) (1964)|\n",
            "|57    |95     |3.0   |95     |Broken Arrow (1996)                                   |\n",
            "|125   |9010   |5.0   |9010   |Love Me If You Dare (Jeux d'enfants) (2003)           |\n",
            "|586   |91630  |4.0   |91630  |Mission: Impossible - Ghost Protocol (2011)           |\n",
            "+------+-------+------+-------+------------------------------------------------------+\n",
            "only showing top 10 rows\n",
            "\n"
          ]
        }
      ]
    },
    {
      "cell_type": "code",
      "source": [
        "from pyspark.ml.feature import StringIndexer,IndexToString"
      ],
      "metadata": {
        "id": "W5bBHHqc-TR6"
      },
      "execution_count": null,
      "outputs": []
    },
    {
      "cell_type": "code",
      "source": [
        "stringIndexer = StringIndexer(inputCol=\"title\",outputCol=\"title_new\")\n",
        "model = stringIndexer.fit(df)\n",
        "indexed_df = model.transform(df)"
      ],
      "metadata": {
        "id": "Sivgnf0r-k76"
      },
      "execution_count": null,
      "outputs": []
    },
    {
      "cell_type": "code",
      "source": [
        "indexed_df.orderBy(rand()).show()"
      ],
      "metadata": {
        "colab": {
          "base_uri": "https://localhost:8080/"
        },
        "id": "zQmw2Ir3-7pC",
        "outputId": "8b46f459-bb26-4bd3-ecdb-00f6571ae10a"
      },
      "execution_count": null,
      "outputs": [
        {
          "output_type": "stream",
          "name": "stdout",
          "text": [
            "+------+-------+------+-------+--------------------+---------+\n",
            "|userId|movieId|rating|movieId|               title|title_new|\n",
            "+------+-------+------+-------+--------------------+---------+\n",
            "|   159|   6373|   4.0|   6373|Bruce Almighty (2...|    246.0|\n",
            "|   180|   1213|   4.5|   1213|   Goodfellas (1990)|     76.0|\n",
            "|   414|   1037|   3.0|   1037|Lawnmower Man, Th...|   1068.0|\n",
            "|   186|   3527|   4.0|   3527|     Predator (1987)|    324.0|\n",
            "|    19|   3108|   4.0|   3108|Fisher King, The ...|    712.0|\n",
            "|   380|   3253|   3.0|   3253|Wayne's World (1992)|    327.0|\n",
            "|   500|    597|   1.0|    597| Pretty Woman (1990)|     61.0|\n",
            "|    84|    247|   4.0|    247|Heavenly Creature...|   1199.0|\n",
            "|   480|   8984|   3.0|   8984|Ocean's Twelve (2...|    565.0|\n",
            "|   292|  68954|   4.0|  68954|           Up (2009)|    119.0|\n",
            "|   177|  64957|   3.5|  64957|Curious Case of B...|    691.0|\n",
            "|    25|   5952|   5.0|   5952|Lord of the Rings...|     24.0|\n",
            "|    50| 109487|   2.5| 109487| Interstellar (2014)|    240.0|\n",
            "|   103|   6873|   4.0|   6873|Intolerable Cruel...|   1269.0|\n",
            "|   525|  27706|   3.0|  27706|Lemony Snicket's ...|   1030.0|\n",
            "|   365|   5445|   1.0|   5445|Minority Report (...|     89.0|\n",
            "|   419|    277|   0.5|    277|Miracle on 34th S...|    679.0|\n",
            "|   125|   2596|   4.5|   2596|    SLC Punk! (1998)|   1940.0|\n",
            "|   298|   5220|   0.5|   5220|     Showtime (2002)|   2240.0|\n",
            "|   380|     50|   4.0|     50|Usual Suspects, T...|     14.0|\n",
            "+------+-------+------+-------+--------------------+---------+\n",
            "only showing top 20 rows\n",
            "\n"
          ]
        }
      ]
    },
    {
      "cell_type": "code",
      "source": [
        "indexed_df.groupBy('title_new').count().orderBy('count',ascending=False).show(10,False)"
      ],
      "metadata": {
        "colab": {
          "base_uri": "https://localhost:8080/"
        },
        "id": "ExCokTkO_MW6",
        "outputId": "cf17330d-4350-4075-bb75-8b3a4eb6ad28"
      },
      "execution_count": null,
      "outputs": [
        {
          "output_type": "stream",
          "name": "stdout",
          "text": [
            "+---------+-----+\n",
            "|title_new|count|\n",
            "+---------+-----+\n",
            "|0.0      |329  |\n",
            "|1.0      |317  |\n",
            "|2.0      |307  |\n",
            "|3.0      |279  |\n",
            "|4.0      |278  |\n",
            "|5.0      |251  |\n",
            "|6.0      |238  |\n",
            "|7.0      |237  |\n",
            "|8.0      |224  |\n",
            "|9.0      |220  |\n",
            "+---------+-----+\n",
            "only showing top 10 rows\n",
            "\n"
          ]
        }
      ]
    },
    {
      "cell_type": "code",
      "source": [
        "train,test = indexed_df.randomSplit([0.80,0.20])\n",
        "print(train.count(), test.count())"
      ],
      "metadata": {
        "colab": {
          "base_uri": "https://localhost:8080/"
        },
        "id": "AzsG4aCr_q0B",
        "outputId": "a5939e87-0817-4649-9787-41e9425c579b"
      },
      "execution_count": null,
      "outputs": [
        {
          "output_type": "stream",
          "name": "stdout",
          "text": [
            "80937 19899\n"
          ]
        }
      ]
    },
    {
      "cell_type": "code",
      "source": [
        "from pyspark.ml.recommendation import ALS\n",
        "rec = ALS(maxIter=10,regParam=0.01,userCol='userId',itemCol='title_new',ratingCol='rating',nonnegative=True,coldStartStrategy='drop')\n",
        "\n",
        "rec_model = rec.fit(train)"
      ],
      "metadata": {
        "id": "A_AR6T4qAe1A"
      },
      "execution_count": null,
      "outputs": []
    },
    {
      "cell_type": "code",
      "source": [
        "pred_ratings = rec_model.transform(test)"
      ],
      "metadata": {
        "id": "ChpRPeBcBiHC"
      },
      "execution_count": null,
      "outputs": []
    },
    {
      "cell_type": "code",
      "source": [
        "pred_ratings.printSchema()"
      ],
      "metadata": {
        "colab": {
          "base_uri": "https://localhost:8080/"
        },
        "id": "KX4KaetWB6VJ",
        "outputId": "ebbb863c-ece9-4f9e-d66d-c7b48ab29148"
      },
      "execution_count": null,
      "outputs": [
        {
          "output_type": "stream",
          "name": "stdout",
          "text": [
            "root\n",
            " |-- userId: integer (nullable = true)\n",
            " |-- movieId: integer (nullable = true)\n",
            " |-- rating: double (nullable = true)\n",
            " |-- movieId: integer (nullable = true)\n",
            " |-- title: string (nullable = true)\n",
            " |-- title_new: double (nullable = false)\n",
            " |-- prediction: float (nullable = false)\n",
            "\n"
          ]
        }
      ]
    },
    {
      "cell_type": "code",
      "source": [
        "pred_ratings.orderBy(rand()).show(10,False)"
      ],
      "metadata": {
        "colab": {
          "base_uri": "https://localhost:8080/"
        },
        "id": "nsY8nFZqB-Q6",
        "outputId": "e6c0f692-5cfb-4eff-96c5-a7b8c2f6cf11"
      },
      "execution_count": null,
      "outputs": [
        {
          "output_type": "stream",
          "name": "stdout",
          "text": [
            "+------+-------+------+-------+---------------------------------------------+---------+----------+\n",
            "|userId|movieId|rating|movieId|title                                        |title_new|prediction|\n",
            "+------+-------+------+-------+---------------------------------------------+---------+----------+\n",
            "|305   |109487 |3.5   |109487 |Interstellar (2014)                          |240.0    |4.952799  |\n",
            "|237   |3617   |2.5   |3617   |Road Trip (2000)                             |610.0    |2.9385598 |\n",
            "|63    |3481   |4.0   |3481   |High Fidelity (2000)                         |233.0    |3.2419999 |\n",
            "|369   |27904  |5.0   |27904  |Scanner Darkly, A (2006)                     |1159.0   |3.3195517 |\n",
            "|191   |269    |3.0   |269    |My Crazy Life (Mi vida loca) (1993)          |5771.0   |3.456217  |\n",
            "|140   |44399  |1.0   |44399  |Shaggy Dog, The (2006)                       |5979.0   |1.2096078 |\n",
            "|159   |4022   |3.0   |4022   |Cast Away (2000)                             |136.0    |3.3621314 |\n",
            "|10    |6942   |4.0   |6942   |Love Actually (2003)                         |343.0    |2.5114086 |\n",
            "|111   |111113 |4.0   |111113 |Neighbors (2014)                             |1923.0   |3.8132892 |\n",
            "|246   |123    |5.0   |123    |Chungking Express (Chung Hing sam lam) (1994)|3743.0   |4.0499196 |\n",
            "+------+-------+------+-------+---------------------------------------------+---------+----------+\n",
            "only showing top 10 rows\n",
            "\n"
          ]
        }
      ]
    },
    {
      "cell_type": "code",
      "source": [
        "from pyspark.ml.evaluation import RegressionEvaluator\n",
        "evaluator = RegressionEvaluator(metricName=\"rmse\",predictionCol='prediction',labelCol='rating')\n",
        "rmse = evaluator.evaluate(pred_ratings)"
      ],
      "metadata": {
        "id": "v9qr2icaCJ7h"
      },
      "execution_count": null,
      "outputs": []
    },
    {
      "cell_type": "code",
      "source": [
        "print(rmse)"
      ],
      "metadata": {
        "colab": {
          "base_uri": "https://localhost:8080/"
        },
        "id": "oZhdB-DZDNcB",
        "outputId": "63dc03a4-ae02-43bf-c50d-bfc7a5ea38a6"
      },
      "execution_count": null,
      "outputs": [
        {
          "output_type": "stream",
          "name": "stdout",
          "text": [
            "1.0221893314517116\n"
          ]
        }
      ]
    },
    {
      "cell_type": "code",
      "source": [
        "unique_movies = indexed_df.select('title_new').distinct()\n",
        "unique_movies.count()"
      ],
      "metadata": {
        "colab": {
          "base_uri": "https://localhost:8080/"
        },
        "id": "TfrXs7mmDPtY",
        "outputId": "297a862e-7744-4333-a3ba-3c7b8d6ab83c"
      },
      "execution_count": null,
      "outputs": [
        {
          "output_type": "execute_result",
          "data": {
            "text/plain": [
              "9719"
            ]
          },
          "metadata": {},
          "execution_count": 26
        }
      ]
    },
    {
      "cell_type": "code",
      "source": [
        "unique_movies.show(15,False)"
      ],
      "metadata": {
        "colab": {
          "base_uri": "https://localhost:8080/"
        },
        "id": "n0tMs6T-EfAw",
        "outputId": "fd26f59f-4e3f-4ae5-e190-17cf150a2be0"
      },
      "execution_count": null,
      "outputs": [
        {
          "output_type": "stream",
          "name": "stdout",
          "text": [
            "+---------+\n",
            "|title_new|\n",
            "+---------+\n",
            "|299.0    |\n",
            "|692.0    |\n",
            "|2862.0   |\n",
            "|305.0    |\n",
            "|496.0    |\n",
            "|596.0    |\n",
            "|769.0    |\n",
            "|934.0    |\n",
            "|4066.0   |\n",
            "|558.0    |\n",
            "|1051.0   |\n",
            "|3901.0   |\n",
            "|3980.0   |\n",
            "|7782.0   |\n",
            "|6067.0   |\n",
            "+---------+\n",
            "only showing top 15 rows\n",
            "\n"
          ]
        }
      ]
    },
    {
      "cell_type": "code",
      "source": [
        "a = unique_movies.alias('a')\n",
        "\n",
        "# perform recommendations for 85th user\n",
        "user_id = 23\n",
        "watched_movies = indexed_df.filter(indexed_df['userId'] == user_id).select('userId','title_new').distinct()"
      ],
      "metadata": {
        "id": "NKYApM3cEjsa"
      },
      "execution_count": null,
      "outputs": []
    },
    {
      "cell_type": "code",
      "source": [
        "watched_movies.count()"
      ],
      "metadata": {
        "colab": {
          "base_uri": "https://localhost:8080/"
        },
        "id": "7r3M6barFGWv",
        "outputId": "4babaf44-3536-49f1-b554-cf9520cfc7db"
      },
      "execution_count": null,
      "outputs": [
        {
          "output_type": "execute_result",
          "data": {
            "text/plain": [
              "121"
            ]
          },
          "metadata": {},
          "execution_count": 29
        }
      ]
    },
    {
      "cell_type": "code",
      "source": [
        "b = watched_movies.alias('b')"
      ],
      "metadata": {
        "id": "FIR-szArFJfv"
      },
      "execution_count": null,
      "outputs": []
    },
    {
      "cell_type": "code",
      "source": [
        "total_movies = a.join(b, a.title_new == b.title_new, how='left')"
      ],
      "metadata": {
        "id": "Kxxxku13FR1p"
      },
      "execution_count": null,
      "outputs": []
    },
    {
      "cell_type": "code",
      "source": [
        "total_movies.show(10,False)"
      ],
      "metadata": {
        "colab": {
          "base_uri": "https://localhost:8080/"
        },
        "id": "JLrE7J2IFg5A",
        "outputId": "4048270f-6497-4e18-d717-1f6f59f86d57"
      },
      "execution_count": null,
      "outputs": [
        {
          "output_type": "stream",
          "name": "stdout",
          "text": [
            "+---------+------+---------+\n",
            "|title_new|userId|title_new|\n",
            "+---------+------+---------+\n",
            "|299.0    |null  |null     |\n",
            "|692.0    |null  |null     |\n",
            "|2862.0   |null  |null     |\n",
            "|305.0    |null  |null     |\n",
            "|496.0    |null  |null     |\n",
            "|596.0    |null  |null     |\n",
            "|769.0    |null  |null     |\n",
            "|934.0    |null  |null     |\n",
            "|4066.0   |null  |null     |\n",
            "|558.0    |null  |null     |\n",
            "+---------+------+---------+\n",
            "only showing top 10 rows\n",
            "\n"
          ]
        }
      ]
    },
    {
      "cell_type": "code",
      "source": [
        "from pyspark.sql.functions import *\n",
        "remain_movies = total_movies.where(col(\"b.title_new\").isNull()).select(a.title_new,\"UserId\").distinct()"
      ],
      "metadata": {
        "id": "EpkByEZxFj1Q"
      },
      "execution_count": null,
      "outputs": []
    },
    {
      "cell_type": "code",
      "source": [
        "remain_movies.count()\n",
        "remain_movies.printSchema()"
      ],
      "metadata": {
        "colab": {
          "base_uri": "https://localhost:8080/"
        },
        "id": "pTvJ-ZzRGI34",
        "outputId": "0a51a76f-f232-4c9f-b4b7-c3429a32aaef"
      },
      "execution_count": null,
      "outputs": [
        {
          "output_type": "stream",
          "name": "stdout",
          "text": [
            "root\n",
            " |-- title_new: double (nullable = false)\n",
            " |-- UserId: integer (nullable = true)\n",
            "\n"
          ]
        }
      ]
    },
    {
      "cell_type": "code",
      "source": [
        "remain_movies = remain_movies.withColumn(\"userId\",lit(user_id))\n",
        "remain_movies.show(10,False)"
      ],
      "metadata": {
        "colab": {
          "base_uri": "https://localhost:8080/"
        },
        "id": "oVRH6c6BGufw",
        "outputId": "62787dd2-c88d-40d7-c504-f4baa3f14689"
      },
      "execution_count": null,
      "outputs": [
        {
          "output_type": "stream",
          "name": "stdout",
          "text": [
            "+---------+------+\n",
            "|title_new|userId|\n",
            "+---------+------+\n",
            "|299.0    |23    |\n",
            "|692.0    |23    |\n",
            "|2862.0   |23    |\n",
            "|305.0    |23    |\n",
            "|496.0    |23    |\n",
            "|596.0    |23    |\n",
            "|769.0    |23    |\n",
            "|934.0    |23    |\n",
            "|4066.0   |23    |\n",
            "|558.0    |23    |\n",
            "+---------+------+\n",
            "only showing top 10 rows\n",
            "\n"
          ]
        }
      ]
    },
    {
      "cell_type": "code",
      "source": [
        "recommendations = rec_model.transform(remain_movies).orderBy('prediction',ascending=False)\n",
        "recommendations.show(5,False)"
      ],
      "metadata": {
        "colab": {
          "base_uri": "https://localhost:8080/"
        },
        "id": "ed44u3h4HEXo",
        "outputId": "6407a008-3f59-480a-b4ee-1fa75cb4509b"
      },
      "execution_count": null,
      "outputs": [
        {
          "output_type": "stream",
          "name": "stdout",
          "text": [
            "+---------+------+----------+\n",
            "|title_new|userId|prediction|\n",
            "+---------+------+----------+\n",
            "|2095.0   |23    |4.9942055 |\n",
            "|2783.0   |23    |4.975934  |\n",
            "|3218.0   |23    |4.808839  |\n",
            "|4748.0   |23    |4.7894506 |\n",
            "|2392.0   |23    |4.7411504 |\n",
            "+---------+------+----------+\n",
            "only showing top 5 rows\n",
            "\n"
          ]
        }
      ]
    },
    {
      "cell_type": "code",
      "source": [
        "movie_title = IndexToString(inputCol=\"title_new\",outputCol='title',labels=model.labels)"
      ],
      "metadata": {
        "id": "-_2X2q9XITpH"
      },
      "execution_count": null,
      "outputs": []
    },
    {
      "cell_type": "code",
      "source": [
        "final_recs = movie_title.transform(recommendations)\n",
        "final_recs.show(5,False)"
      ],
      "metadata": {
        "colab": {
          "base_uri": "https://localhost:8080/"
        },
        "id": "00qtFpfNJNTe",
        "outputId": "31ef7b4c-ebf3-440c-d56b-83f5be1b0b81"
      },
      "execution_count": null,
      "outputs": [
        {
          "output_type": "stream",
          "name": "stdout",
          "text": [
            "+---------+------+----------+----------------------------------+\n",
            "|title_new|userId|prediction|title                             |\n",
            "+---------+------+----------+----------------------------------+\n",
            "|2095.0   |23    |4.9942055 |Solaris (Solyaris) (1972)         |\n",
            "|2783.0   |23    |4.975934  |Joe Versus the Volcano (1990)     |\n",
            "|3218.0   |23    |4.808839  |Stranger Than Paradise (1984)     |\n",
            "|4748.0   |23    |4.7894506 |Play Time (a.k.a. Playtime) (1967)|\n",
            "|2392.0   |23    |4.7411504 |Public Enemies (2009)             |\n",
            "+---------+------+----------+----------------------------------+\n",
            "only showing top 5 rows\n",
            "\n"
          ]
        }
      ]
    }
  ]
}